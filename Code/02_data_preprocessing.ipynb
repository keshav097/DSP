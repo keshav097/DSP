{
  "nbformat": 4,
  "nbformat_minor": 0,
  "metadata": {
    "colab": {
      "provenance": []
    },
    "kernelspec": {
      "name": "python3",
      "display_name": "Python 3"
    },
    "language_info": {
      "name": "python"
    }
  },
  "cells": [
    {
      "cell_type": "code",
      "execution_count": null,
      "metadata": {
        "id": "Lez8Pb8MRzja"
      },
      "outputs": [],
      "source": [
        "import pandas as pd"
      ]
    },
    {
      "cell_type": "code",
      "source": [
        "df = pd.read_csv(\"dataset.csv\")"
      ],
      "metadata": {
        "id": "8PLQJ86xR4YT"
      },
      "execution_count": null,
      "outputs": []
    },
    {
      "cell_type": "code",
      "source": [
        "# Dictionary of columns to rename\n",
        "columns_to_rename = {\n",
        "    'Comp_x': 'Comp',\n",
        "    'Round_x': 'Round',\n",
        "    'Venue_x': 'Venue',\n",
        "    'xG_x': 'xG'\n",
        "}\n",
        "\n",
        "# Rename the columns\n",
        "df.rename(columns=columns_to_rename, inplace=True)"
      ],
      "metadata": {
        "id": "kalFTKclSFSV"
      },
      "execution_count": 4,
      "outputs": []
    },
    {
      "cell_type": "code",
      "source": [
        "# List of  columns to delete\n",
        "columns_to_delete = [\n",
        "    'Time_x', 'Day_x', 'Result_x', 'Time_y', 'Comp_y',\n",
        "    'Round_y', 'Day_y', 'Venue_y', 'Result_y'\n",
        "]\n",
        "\n",
        "# Drop the  columns\n",
        "df.drop(columns=columns_to_delete, inplace=True)"
      ],
      "metadata": {
        "id": "2RCvpRebSRQl"
      },
      "execution_count": 5,
      "outputs": []
    },
    {
      "cell_type": "code",
      "source": [
        "# Save the updated  DataFrame to a CSV file\n",
        "df.to_csv('Clean_dataset.csv', index=False)"
      ],
      "metadata": {
        "id": "G6DneQOvSUBO"
      },
      "execution_count": 6,
      "outputs": []
    },
    {
      "cell_type": "code",
      "source": [
        "#check duplicates(No duplicate rows)\n",
        "# find duplicate rows\n",
        "duplicate_rows = df.duplicated()\n",
        "\n",
        "# print duplicate rows\n",
        "print(duplicate_rows)"
      ],
      "metadata": {
        "id": "5fMtMoDASWZ8",
        "outputId": "1b8de36c-87d6-4647-ce57-c94cd2ba535b",
        "colab": {
          "base_uri": "https://localhost:8080/"
        }
      },
      "execution_count": 8,
      "outputs": [
        {
          "output_type": "stream",
          "name": "stdout",
          "text": [
            "0       False\n",
            "1       False\n",
            "2       False\n",
            "3       False\n",
            "4       False\n",
            "        ...  \n",
            "3175    False\n",
            "3176    False\n",
            "3177    False\n",
            "3178    False\n",
            "3179    False\n",
            "Length: 3180, dtype: bool\n"
          ]
        }
      ]
    },
    {
      "cell_type": "code",
      "source": [],
      "metadata": {
        "id": "qk_TOO3TkFVC"
      },
      "execution_count": null,
      "outputs": []
    }
  ]
}